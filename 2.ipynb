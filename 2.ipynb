{
 "cells": [
  {
   "cell_type": "markdown",
   "metadata": {},
   "source": [
    "## Functions"
   ]
  },
  {
   "cell_type": "code",
   "execution_count": 19,
   "metadata": {},
   "outputs": [],
   "source": [
    "def add_sub(a, b):\n",
    "    c = a + b\n",
    "    d = a - b\n",
    "    return c, d"
   ]
  },
  {
   "cell_type": "code",
   "execution_count": 20,
   "metadata": {},
   "outputs": [],
   "source": [
    "def print_result(x):\n",
    "    print(\"The result is \" + str(x))"
   ]
  },
  {
   "cell_type": "code",
   "execution_count": 21,
   "metadata": {},
   "outputs": [],
   "source": [
    "x, y = add_sub(1, 2)"
   ]
  },
  {
   "cell_type": "code",
   "execution_count": 22,
   "metadata": {},
   "outputs": [
    {
     "name": "stdout",
     "output_type": "stream",
     "text": [
      "The result is 3\n",
      "The result is -1\n"
     ]
    }
   ],
   "source": [
    "print_result(x)\n",
    "print_result(y)"
   ]
  },
  {
   "cell_type": "markdown",
   "metadata": {},
   "source": [
    "## Global Variables"
   ]
  },
  {
   "cell_type": "code",
   "execution_count": 25,
   "metadata": {},
   "outputs": [
    {
     "name": "stdout",
     "output_type": "stream",
     "text": [
      "3\n",
      "5\n"
     ]
    }
   ],
   "source": [
    "def print_val():\n",
    "    global x\n",
    "    x = 3\n",
    "    print(x)\n",
    "    \n",
    "x = 5\n",
    "print_val()\n",
    "print(x)"
   ]
  },
  {
   "cell_type": "code",
   "execution_count": 27,
   "metadata": {},
   "outputs": [
    {
     "name": "stdout",
     "output_type": "stream",
     "text": [
      "[3] [9, 5, 4] 5 9\n"
     ]
    }
   ],
   "source": [
    "def some_func():\n",
    "    global l1, x\n",
    "    l1 = [3]\n",
    "    l2 = l1 + [5]\n",
    "    x = 5\n",
    "    y = 3\n",
    "\n",
    "l1 = [2, 3, 4]\n",
    "l2 = [9, 5, 4]\n",
    "x = 3\n",
    "y = 9\n",
    "some_func()\n",
    "print(l1, l2, x, y)"
   ]
  },
  {
   "cell_type": "code",
   "execution_count": 29,
   "metadata": {},
   "outputs": [
    {
     "name": "stdout",
     "output_type": "stream",
     "text": [
      "[1, 2, 3, 4, 3]\n",
      "[1, 2, 3, 4, 3]\n"
     ]
    }
   ],
   "source": [
    "list1 = [1, 2, 3, 4]\n",
    "list2 = list1\n",
    "list2.append(3)\n",
    "print(list1)\n",
    "print(list2)"
   ]
  },
  {
   "cell_type": "code",
   "execution_count": 30,
   "metadata": {},
   "outputs": [
    {
     "name": "stdout",
     "output_type": "stream",
     "text": [
      "True\n"
     ]
    }
   ],
   "source": [
    "print(list1 is list2)"
   ]
  },
  {
   "cell_type": "code",
   "execution_count": 32,
   "metadata": {},
   "outputs": [
    {
     "name": "stdout",
     "output_type": "stream",
     "text": [
      "True\n",
      "True\n",
      "True\n",
      "---------------\n",
      "False\n",
      "True\n",
      "False\n"
     ]
    }
   ],
   "source": [
    "list1 = [1, 2, 3, 4]\n",
    "list2 = [1, 2, 3, 4]\n",
    "list3 = list2\n",
    "\n",
    "print(list1 == list2)\n",
    "print(list2 == list3)\n",
    "print(list1 == list3)\n",
    "print(\"---------------\")\n",
    "print(list1 is list2)\n",
    "print(list2 is list3)\n",
    "print(list1 is list3)"
   ]
  },
  {
   "cell_type": "markdown",
   "metadata": {},
   "source": [
    "## List notations"
   ]
  },
  {
   "cell_type": "code",
   "execution_count": 76,
   "metadata": {},
   "outputs": [
    {
     "name": "stdout",
     "output_type": "stream",
     "text": [
      "4\n",
      "4\n",
      "4\n",
      "[6, 3, 6, 6]\n",
      "[6, 3, 6, 6]\n",
      "[6, 3, 6, 6, 5, 7, 8, 9]\n",
      "[5, 4, 6, 3, 6]\n",
      "-------------------------\n",
      "[1, 2, 3, 4, 5]\n",
      "[1, 2, 3, 4]\n"
     ]
    }
   ],
   "source": [
    "list1 = [1, 2, 3, 4]\n",
    "list2 = [5, 4, 6, 3, 6, 6, 5 , 7, 8, 9]\n",
    "\n",
    "# print last element\n",
    "print(list1[3])\n",
    "print(list1[len(list1) - 1])\n",
    "\n",
    "# in python\n",
    "print(list1[-1])\n",
    "\n",
    "# slice a list\n",
    "list3 = []\n",
    "for i in range(2, 6):\n",
    "    list3.append(list2[i])\n",
    "print(list3)\n",
    "\n",
    "# in python\n",
    "list3 = list2[2:6]\n",
    "print(list3)\n",
    "\n",
    "print(list2[2:])\n",
    "print(list2[:5])\n",
    "\n",
    "print(\"-------------------------\")\n",
    "list4 = list1[:]\n",
    "list4.append(5)\n",
    "print(list4)\n",
    "print(list1)\n"
   ]
  },
  {
   "cell_type": "markdown",
   "metadata": {},
   "source": [
    "## Dictionary"
   ]
  },
  {
   "cell_type": "code",
   "execution_count": 54,
   "metadata": {},
   "outputs": [
    {
     "name": "stdout",
     "output_type": "stream",
     "text": [
      "hi\n"
     ]
    }
   ],
   "source": [
    "dict1 = {\n",
    "    \n",
    "    \"x\" : 1,\n",
    "    \n",
    "    4 : [1, 2, 3, 4],\n",
    "    \n",
    "    \"string\" : {\n",
    "        \"a\" : \"hello\",\n",
    "        \n",
    "        \"b\" : {\n",
    "            1 : \"hi\"\n",
    "        }\n",
    "        \n",
    "    }\n",
    "}\n",
    "\n",
    "print(dict1[\"string\"][\"b\"][1])"
   ]
  },
  {
   "cell_type": "markdown",
   "metadata": {},
   "source": [
    "## List functions\n",
    "\n",
    "### 1) map()"
   ]
  },
  {
   "cell_type": "code",
   "execution_count": 1,
   "metadata": {},
   "outputs": [
    {
     "name": "stdout",
     "output_type": "stream",
     "text": [
      "[6, 7, 8, 9]\n"
     ]
    }
   ],
   "source": [
    "# program for printing cube of the numbers\n",
    "\n",
    "list1 = [1, 2, 3, 4]\n",
    "\n",
    "list2 = list(map(lambda x: x**3, list1))\n",
    "print(list2)"
   ]
  },
  {
   "cell_type": "markdown",
   "metadata": {},
   "source": [
    "## 2) filter()"
   ]
  },
  {
   "cell_type": "code",
   "execution_count": 4,
   "metadata": {},
   "outputs": [
    {
     "name": "stdout",
     "output_type": "stream",
     "text": [
      "[2, 4, 6, 8]\n"
     ]
    }
   ],
   "source": [
    "# program for printing even numbers\n",
    "\n",
    "list1 = [1, 2, 3, 4, 5, 6, 7, 8]\n",
    "list2 = list(filter(lambda x : x % 2 is 0, list1))\n",
    "print(list2)"
   ]
  },
  {
   "cell_type": "code",
   "execution_count": 68,
   "metadata": {},
   "outputs": [
    {
     "name": "stdout",
     "output_type": "stream",
     "text": [
      "5\n"
     ]
    }
   ],
   "source": [
    "x = 3\n",
    "if x == 3:\n",
    "    x = 5\n",
    "else:\n",
    "    x = 6\n",
    "print(x)"
   ]
  },
  {
   "cell_type": "code",
   "execution_count": 75,
   "metadata": {},
   "outputs": [
    {
     "name": "stdout",
     "output_type": "stream",
     "text": [
      "3\n"
     ]
    }
   ],
   "source": [
    "x = 3\n",
    "x = 3 if(x == 3) else 4\n",
    "print(x)"
   ]
  },
  {
   "cell_type": "code",
   "execution_count": null,
   "metadata": {},
   "outputs": [],
   "source": []
  }
 ],
 "metadata": {
  "kernelspec": {
   "display_name": "Python 3",
   "language": "python",
   "name": "python3"
  },
  "language_info": {
   "codemirror_mode": {
    "name": "ipython",
    "version": 3
   },
   "file_extension": ".py",
   "mimetype": "text/x-python",
   "name": "python",
   "nbconvert_exporter": "python",
   "pygments_lexer": "ipython3",
   "version": "3.6.2"
  }
 },
 "nbformat": 4,
 "nbformat_minor": 2
}
