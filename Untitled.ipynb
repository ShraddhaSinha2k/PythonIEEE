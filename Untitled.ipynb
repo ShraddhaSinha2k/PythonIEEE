{
 "cells": [
  {
   "cell_type": "markdown",
   "metadata": {},
   "source": [
    "\n",
    "## HCF\n",
    "\n",
    "### 1) 1st prog"
   ]
  },
  {
   "cell_type": "code",
   "execution_count": null,
   "metadata": {},
   "outputs": [],
   "source": [
    "def gcd1(m, n):\n",
    "    d_m = []\n",
    "    d_n = []\n",
    "    common = []\n",
    "    for i in range(1, m+1):\n",
    "        if m%i == 0:\n",
    "            d_m.append(i)\n",
    "    for j in range(1, n+1):\n",
    "        if n%j == 0:\n",
    "            d_n.append(j)\n",
    "    for i in d_m:\n",
    "        for j in d_n:\n",
    "            if i == j:\n",
    "                common.append(i)\n",
    "    \n",
    "    return common[-1]\n",
    "\n",
    "print(gcd1(30, 20))"
   ]
  },
  {
   "cell_type": "markdown",
   "metadata": {},
   "source": [
    "### 2) 2nd prog"
   ]
  },
  {
   "cell_type": "code",
   "execution_count": 12,
   "metadata": {},
   "outputs": [],
   "source": [
    "def gcd2(m, n):\n",
    "    \n",
    "    for i in range(1, min(m, n) + 1):\n",
    "        if m % i ==0 and n % i == 0:\n",
    "            common = i\n",
    "    return common\n",
    "\n",
    "print(gcd2(10, 20))"
   ]
  },
  {
   "cell_type": "markdown",
   "metadata": {},
   "source": [
    "### 3) Euclid's Algorithm"
   ]
  },
  {
   "cell_type": "code",
   "execution_count": 17,
   "metadata": {},
   "outputs": [],
   "source": [
    "def gcd3(m, n):\n",
    "    if m < n:\n",
    "        (m, n) = (n, m)\n",
    "    \n",
    "    while m%n != 0:\n",
    "        (m, n) = (n, m%n)\n",
    "        \n",
    "    return n\n",
    "print(gcd3(30, 7))"
   ]
  },
  {
   "cell_type": "markdown",
   "metadata": {},
   "source": [
    "## String and list programs:\n",
    "\n",
    "### 1) Reverse of string"
   ]
  },
  {
   "cell_type": "code",
   "execution_count": 23,
   "metadata": {},
   "outputs": [],
   "source": [
    "def reverse1(m):\n",
    "    x = \"\"\n",
    "    for i in range(len(m)-1, -1, -1):\n",
    "        x = x + m[i]\n",
    "    return x\n",
    "\n",
    "def reverse2(m):\n",
    "    x = \"\"\n",
    "    for i in m:\n",
    "        x = i + x\n",
    "    return x"
   ]
  },
  {
   "cell_type": "markdown",
   "metadata": {},
   "source": [
    "### 2) Strings are immutable"
   ]
  },
  {
   "cell_type": "code",
   "execution_count": 24,
   "metadata": {},
   "outputs": [
    {
     "ename": "TypeError",
     "evalue": "'str' object does not support item assignment",
     "output_type": "error",
     "traceback": [
      "\u001b[1;31m---------------------------------------------------------------------------\u001b[0m",
      "\u001b[1;31mTypeError\u001b[0m                                 Traceback (most recent call last)",
      "\u001b[1;32m<ipython-input-24-eae79f45377b>\u001b[0m in \u001b[0;36m<module>\u001b[1;34m()\u001b[0m\n\u001b[0;32m      1\u001b[0m \u001b[0mm\u001b[0m \u001b[1;33m=\u001b[0m \u001b[1;34m\"hello\"\u001b[0m\u001b[1;33m\u001b[0m\u001b[0m\n\u001b[1;32m----> 2\u001b[1;33m \u001b[0mm\u001b[0m\u001b[1;33m[\u001b[0m\u001b[1;36m3\u001b[0m\u001b[1;33m]\u001b[0m \u001b[1;33m=\u001b[0m \u001b[1;34m'p'\u001b[0m\u001b[1;33m\u001b[0m\u001b[0m\n\u001b[0m",
      "\u001b[1;31mTypeError\u001b[0m: 'str' object does not support item assignment"
     ]
    }
   ],
   "source": [
    "m = \"hello\"\n",
    "m[3] = 'p'"
   ]
  },
  {
   "cell_type": "markdown",
   "metadata": {},
   "source": [
    "So, this causes error"
   ]
  },
  {
   "cell_type": "code",
   "execution_count": 25,
   "metadata": {},
   "outputs": [
    {
     "name": "stdout",
     "output_type": "stream",
     "text": [
      "helpo\n"
     ]
    }
   ],
   "source": [
    "m = m[0:3] + 'p' + m[4:]\n",
    "print(m)"
   ]
  },
  {
   "cell_type": "markdown",
   "metadata": {},
   "source": [
    "### 3) Modifying a list"
   ]
  },
  {
   "cell_type": "code",
   "execution_count": 26,
   "metadata": {},
   "outputs": [
    {
     "name": "stdout",
     "output_type": "stream",
     "text": [
      "5\n",
      "5\n"
     ]
    }
   ],
   "source": [
    "list1 = [\"helo\", \"pppp\", \"ososos\", 1]\n",
    "list2 = list1\n",
    "list2[3] = 5\n",
    "print(list2[3])\n",
    "print(list1[3])"
   ]
  },
  {
   "cell_type": "markdown",
   "metadata": {},
   "source": [
    "So both gets changed, thus list1 and list2 are the copy of the same list, so to copy a list, use full slice"
   ]
  },
  {
   "cell_type": "code",
   "execution_count": 27,
   "metadata": {},
   "outputs": [
    {
     "name": "stdout",
     "output_type": "stream",
     "text": [
      "5\n",
      "1\n"
     ]
    }
   ],
   "source": [
    "list1 = [\"helo\", \"pppp\", \"ososos\", 1]\n",
    "list2 = list1[:]\n",
    "list2[3] = 5\n",
    "print(list2[3])\n",
    "print(list1[3])"
   ]
  },
  {
   "cell_type": "markdown",
   "metadata": {},
   "source": [
    "### 4) Concat produces a new list"
   ]
  },
  {
   "cell_type": "code",
   "execution_count": 44,
   "metadata": {},
   "outputs": [
    {
     "name": "stdout",
     "output_type": "stream",
     "text": [
      "['helo', 'pppp', 'ososos', 1]\n",
      "['helo', 'pppp', 'ososos', 1, 1]\n",
      "False\n"
     ]
    }
   ],
   "source": [
    "list1 = [\"helo\", \"pppp\", \"ososos\", 1]\n",
    "list2 = list1 + [1]\n",
    "list3 = list2 + []\n",
    "print(list1)\n",
    "print(list2)\n",
    "print(list3 is list2)"
   ]
  },
  {
   "cell_type": "markdown",
   "metadata": {},
   "source": [
    "### 5) Amguity with '=='"
   ]
  },
  {
   "cell_type": "code",
   "execution_count": 29,
   "metadata": {},
   "outputs": [
    {
     "name": "stdout",
     "output_type": "stream",
     "text": [
      "True\n",
      "True\n",
      "True\n",
      "False\n",
      "True\n",
      "False\n"
     ]
    }
   ],
   "source": [
    "list1 = [1, 2, 3, 4]\n",
    "list2 = [1, 2, 3, 4]\n",
    "list3 = list2\n",
    "\n",
    "print(list1 == list2)\n",
    "print(list2 == list3)\n",
    "print(list1 == list3)\n",
    "\n",
    "print(list1 is list2)\n",
    "print(list2 is list3)\n",
    "print(list1 is list3)"
   ]
  },
  {
   "cell_type": "markdown",
   "metadata": {},
   "source": [
    "### 6) List operations"
   ]
  },
  {
   "cell_type": "code",
   "execution_count": 60,
   "metadata": {},
   "outputs": [
    {
     "name": "stdout",
     "output_type": "stream",
     "text": [
      "[1, 2, 3, 4, 5, 6, 7, 8]\n",
      "[6, 7, 8]\n",
      "[6, 7, 8, 3]\n",
      "[6, 7, 3]\n",
      "[1, 2, 7, 2, 5, 6, 7, 8]\n"
     ]
    }
   ],
   "source": [
    "list1 = [1, 2, 3, 4, 5]\n",
    "list2 = [6, 7, 8]\n",
    "\n",
    "# extend\n",
    "list1.extend(list2)\n",
    "print(list1)\n",
    "print(list2)\n",
    "\n",
    "# add\n",
    "list2.append(3)\n",
    "print(list2)\n",
    "\n",
    "# remove\n",
    "list2.remove(8)\n",
    "print(list2)\n",
    "\n",
    "# adding an element in place of some\n",
    "list1[2:4] = [7, 2]\n",
    "print(list1)"
   ]
  },
  {
   "cell_type": "markdown",
   "metadata": {},
   "source": [
    "So, 'is' outputs True when they are assigned to each other, not when their elements are equal"
   ]
  },
  {
   "cell_type": "markdown",
   "metadata": {},
   "source": [
    "### 7) Search for an element in the list"
   ]
  },
  {
   "cell_type": "code",
   "execution_count": 80,
   "metadata": {},
   "outputs": [
    {
     "name": "stdout",
     "output_type": "stream",
     "text": [
      "(True, 2)\n",
      "(True, 2)\n",
      "(False, -1)\n",
      "(False, -1)\n"
     ]
    }
   ],
   "source": [
    "# 1\n",
    "def search1(x, list_x):\n",
    "    for i in range(len(list_x)):\n",
    "        if list_x[i] == x:\n",
    "            result = (True, i)\n",
    "            break\n",
    "        else:\n",
    "            result = (False, -1)\n",
    "    return result\n",
    "\n",
    "# 2\n",
    "def search2(x, list_x):\n",
    "    for i in range(len(list_x)):\n",
    "        if list_x[i] == x:\n",
    "            return (True, i)\n",
    "    return (False, -1)\n",
    "\n",
    "print(search1(3, [1, 2, 3, 4, 5]))\n",
    "print(search2(3, [1, 2, 3, 4, 5]))\n",
    "\n",
    "print(search1(10, [1, 2, 3, 4, 5]))\n",
    "print(search2(10, [1, 2, 3, 4, 5]))"
   ]
  },
  {
   "cell_type": "markdown",
   "metadata": {},
   "source": [
    "## Recurssion"
   ]
  },
  {
   "cell_type": "markdown",
   "metadata": {},
   "source": [
    "### 1) Factorial"
   ]
  },
  {
   "cell_type": "code",
   "execution_count": 31,
   "metadata": {},
   "outputs": [
    {
     "name": "stdout",
     "output_type": "stream",
     "text": [
      "24\n"
     ]
    }
   ],
   "source": [
    "def factorial(m):\n",
    "    if m == 0 or m == 1:\n",
    "        return 1\n",
    "    else:\n",
    "        return m * factorial(m - 1)\n",
    "print(factorial(4))"
   ]
  },
  {
   "cell_type": "markdown",
   "metadata": {},
   "source": [
    "### 2) Prime number"
   ]
  },
  {
   "cell_type": "code",
   "execution_count": 36,
   "metadata": {},
   "outputs": [
    {
     "name": "stdout",
     "output_type": "stream",
     "text": [
      "True\n"
     ]
    }
   ],
   "source": [
    "def prime(m):\n",
    "    for i in range(2, m):\n",
    "        if m%i == 0:\n",
    "            return False\n",
    "    return True\n",
    "print(prime(3))"
   ]
  },
  {
   "cell_type": "markdown",
   "metadata": {},
   "source": [
    "### 3) Prime numbers till n"
   ]
  },
  {
   "cell_type": "code",
   "execution_count": 39,
   "metadata": {},
   "outputs": [
    {
     "name": "stdout",
     "output_type": "stream",
     "text": [
      "[1, 2, 3, 5, 7]\n"
     ]
    }
   ],
   "source": [
    "def print_till_n(n):\n",
    "    prime_list = []\n",
    "    for i in range(1, n + 1):\n",
    "        if prime(i):\n",
    "            prime_list.append(i)\n",
    "    return prime_list\n",
    "print(print_till_n(10))"
   ]
  },
  {
   "cell_type": "markdown",
   "metadata": {},
   "source": [
    "### 4) 'range()'"
   ]
  },
  {
   "cell_type": "code",
   "execution_count": 42,
   "metadata": {},
   "outputs": [
    {
     "name": "stdout",
     "output_type": "stream",
     "text": [
      "[0, 1, 2, 3, 4, 5, 6, 7, 8, 9]\n",
      "[3, 4, 5, 6, 7, 8, 9]\n",
      "[3, 5, 7, 9]\n",
      "[10, 9, 8, 7, 6, 5, 4]\n",
      "[10, 7, 4]\n",
      "[1, 2, 3, 4, 5, 6, 7, 8, 9]\n"
     ]
    }
   ],
   "source": [
    "x = [i for i in range(10)]\n",
    "print(x)\n",
    "\n",
    "x = [i for i in range(3, 10)]\n",
    "print(x)\n",
    "\n",
    "x = [i for i in range(3, 10, 2)]\n",
    "print(x)\n",
    "\n",
    "x = [i for i in range(10, 3, -1)]\n",
    "print(x)\n",
    "\n",
    "x = [i for i in range(10, 1, -3)]\n",
    "print(x)\n",
    "\n",
    "\n",
    "# another way to create the list\n",
    "\n",
    "x = list(range(1, 10))\n",
    "print(x)"
   ]
  },
  {
   "cell_type": "markdown",
   "metadata": {},
   "source": [
    "## Other functions"
   ]
  },
  {
   "cell_type": "code",
   "execution_count": 75,
   "metadata": {},
   "outputs": [
    {
     "name": "stdout",
     "output_type": "stream",
     "text": [
      "[1, 2, 3, 3, 4, 5, 6, 7]\n",
      "[7, 6, 5, 4, 3, 3, 2, 1]\n",
      "4\n",
      "10\n",
      "14\n"
     ]
    },
    {
     "ename": "AttributeError",
     "evalue": "'list' object has no attribute 'rindex'",
     "output_type": "error",
     "traceback": [
      "\u001b[1;31m---------------------------------------------------------------------------\u001b[0m",
      "\u001b[1;31mAttributeError\u001b[0m                            Traceback (most recent call last)",
      "\u001b[1;32m<ipython-input-75-422e722d8f16>\u001b[0m in \u001b[0;36m<module>\u001b[1;34m()\u001b[0m\n\u001b[0;32m     13\u001b[0m \u001b[0mprint\u001b[0m\u001b[1;33m(\u001b[0m\u001b[0mstring\u001b[0m\u001b[1;33m.\u001b[0m\u001b[0mindex\u001b[0m\u001b[1;33m(\u001b[0m\u001b[1;34m\"3\"\u001b[0m\u001b[1;33m)\u001b[0m\u001b[1;33m)\u001b[0m   \u001b[1;31m# leftmost\u001b[0m\u001b[1;33m\u001b[0m\u001b[0m\n\u001b[0;32m     14\u001b[0m \u001b[0mprint\u001b[0m\u001b[1;33m(\u001b[0m\u001b[0mstring\u001b[0m\u001b[1;33m.\u001b[0m\u001b[0mrindex\u001b[0m\u001b[1;33m(\u001b[0m\u001b[1;34m\"3\"\u001b[0m\u001b[1;33m)\u001b[0m\u001b[1;33m)\u001b[0m\u001b[1;33m\u001b[0m\u001b[0m\n\u001b[1;32m---> 15\u001b[1;33m \u001b[0mprint\u001b[0m\u001b[1;33m(\u001b[0m\u001b[0mlist1\u001b[0m\u001b[1;33m.\u001b[0m\u001b[0mrindex\u001b[0m\u001b[1;33m(\u001b[0m\u001b[1;36m3\u001b[0m\u001b[1;33m)\u001b[0m\u001b[1;33m)\u001b[0m  \u001b[1;31m# not for lists\u001b[0m\u001b[1;33m\u001b[0m\u001b[0m\n\u001b[0m",
      "\u001b[1;31mAttributeError\u001b[0m: 'list' object has no attribute 'rindex'"
     ]
    }
   ],
   "source": [
    "list1 = [1, 4, 3, 3, 6, 5, 7, 2]\n",
    "\n",
    "list1.sort()\n",
    "print(list1)\n",
    "\n",
    "list1.sort(reverse = True)\n",
    "print(list1)\n",
    "\n",
    "print(list1.index(3))   # leftmost\n",
    "\n",
    "\n",
    "string = \"Hey there 3 3 3\"\n",
    "print(string.index(\"3\"))   # leftmost\n",
    "print(string.rindex(\"3\"))\n",
    "print(list1.rindex(3))  # \"NOT\" for lists"
   ]
  },
  {
   "cell_type": "markdown",
   "metadata": {},
   "source": [
    "## Searching algorithms"
   ]
  },
  {
   "cell_type": "markdown",
   "metadata": {},
   "source": [
    "### 1) Binary search (O(logn))"
   ]
  },
  {
   "cell_type": "code",
   "execution_count": null,
   "metadata": {},
   "outputs": [],
   "source": [
    "def binary_search(el, list_el, first = 0, last = None):\n",
    "    \n",
    "    if last == None:\n",
    "        last = len(list_el)\n",
    "    \n",
    "    # increasing order\n",
    "    list_el.sort()\n",
    "    \n",
    "    mid = first + last // 2\n",
    "    \n",
    "    if list_el[mid] == el:\n",
    "        print\n",
    "        return (True, mid)\n",
    "    \n",
    "    elif list_el[mid] < el:\n",
    "        return binary_search(el, list_el, first, mid)\n",
    "    \n",
    "    elif list_el[mid] > el:\n",
    "        return binary_search(el, list_el, mid, last)\n",
    "    \n",
    "    return (False, -1)\n",
    "\n",
    "print(binary_search(10, [1, 2, 3, 4, 5]))"
   ]
  },
  {
   "cell_type": "markdown",
   "metadata": {},
   "source": [
    "#### Linear scan \n",
    "is O(n) for arrays and lists,\n",
    "#### Binary search \n",
    "is O(log n) for sorted arrays"
   ]
  },
  {
   "cell_type": "markdown",
   "metadata": {},
   "source": [
    "## Sorting algorithms"
   ]
  },
  {
   "cell_type": "markdown",
   "metadata": {},
   "source": [
    "### 1)  Selection Sort (O(n^2))"
   ]
  },
  {
   "cell_type": "code",
   "execution_count": 14,
   "metadata": {},
   "outputs": [
    {
     "name": "stdout",
     "output_type": "stream",
     "text": [
      "[1, 3, 4, 5, 6, 7]\n"
     ]
    }
   ],
   "source": [
    "def selection_sort(l):\n",
    "    for start in range(len(l)):\n",
    "        minpos = start\n",
    "        for i in range(start, len(l)):\n",
    "            if l[i] < l[minpos]:\n",
    "                minpos = i\n",
    "        (l[minpos], l[start]) = (l[start], l[minpos])\n",
    "    return l\n",
    "print(selection_sort([1, 5, 3, 6, 4, 7]))"
   ]
  },
  {
   "cell_type": "markdown",
   "metadata": {},
   "source": [
    "Finding minimum in unsorted segment of length k\n",
    "requires one scan, k steps.\n",
    "In each iteration, segment to be scanned reduces\n",
    "by 1\n",
    "#### T(n) = n + (n-1) + (n-2) + … + 1 = n(n+1)/2 = O(n2)"
   ]
  },
  {
   "cell_type": "markdown",
   "metadata": {},
   "source": [
    "### 2) Insertion Sort (O(n^2))"
   ]
  },
  {
   "cell_type": "code",
   "execution_count": 20,
   "metadata": {},
   "outputs": [
    {
     "name": "stdout",
     "output_type": "stream",
     "text": [
      "[1, 2, 4, 5, 6]\n"
     ]
    }
   ],
   "source": [
    "def insertion_sort(l):\n",
    "    for end in range(len(l)):\n",
    "        pos = end\n",
    "        while pos > 0 and l[pos] < l[pos - 1]:\n",
    "            (l[pos], l[pos - 1]) = (l[pos - 1], l[pos])\n",
    "            pos = pos - 1\n",
    "    return l\n",
    "print(insertion_sort([1, 2,5, 4, 6]))"
   ]
  },
  {
   "cell_type": "markdown",
   "metadata": {},
   "source": [
    "### 3) Merge Sort (O(nlog(n))\n",
    "### 4)  QuickSort\n",
    "#### i) Avg Case : O(nlogn)\n",
    "#### ii) Worst case for sorted list : O(n^2)"
   ]
  },
  {
   "cell_type": "markdown",
   "metadata": {},
   "source": [
    "## Tuples     "
   ]
  },
  {
   "cell_type": "markdown",
   "metadata": {},
   "source": [
    "### 1) Immutable"
   ]
  },
  {
   "cell_type": "code",
   "execution_count": 25,
   "metadata": {},
   "outputs": [
    {
     "ename": "TypeError",
     "evalue": "'tuple' object does not support item assignment",
     "output_type": "error",
     "traceback": [
      "\u001b[1;31m---------------------------------------------------------------------------\u001b[0m",
      "\u001b[1;31mTypeError\u001b[0m                                 Traceback (most recent call last)",
      "\u001b[1;32m<ipython-input-25-26b679a63c43>\u001b[0m in \u001b[0;36m<module>\u001b[1;34m()\u001b[0m\n\u001b[0;32m      1\u001b[0m \u001b[0mx\u001b[0m \u001b[1;33m=\u001b[0m \u001b[1;33m(\u001b[0m\u001b[1;36m1\u001b[0m\u001b[1;33m,\u001b[0m \u001b[1;36m2\u001b[0m\u001b[1;33m,\u001b[0m \u001b[1;36m3\u001b[0m\u001b[1;33m,\u001b[0m \u001b[1;36m4\u001b[0m\u001b[1;33m)\u001b[0m\u001b[1;33m\u001b[0m\u001b[0m\n\u001b[1;32m----> 2\u001b[1;33m \u001b[0mx\u001b[0m\u001b[1;33m[\u001b[0m\u001b[1;36m2\u001b[0m\u001b[1;33m]\u001b[0m \u001b[1;33m=\u001b[0m \u001b[1;36m4\u001b[0m\u001b[1;33m\u001b[0m\u001b[0m\n\u001b[0m",
      "\u001b[1;31mTypeError\u001b[0m: 'tuple' object does not support item assignment"
     ]
    }
   ],
   "source": [
    "x = (1, 2, 3, 4)\n",
    "x[2] = 4"
   ]
  },
  {
   "cell_type": "markdown",
   "metadata": {},
   "source": [
    "## Dictionaries\n",
    "\n",
    "### 1) Basic operations"
   ]
  },
  {
   "cell_type": "code",
   "execution_count": 33,
   "metadata": {},
   "outputs": [
    {
     "name": "stdout",
     "output_type": "stream",
     "text": [
      "key2\n",
      "key1\n",
      "key2_1\n",
      "key2_2\n",
      "['key1', 'key2']\n",
      "value1\n",
      "{'key2_1': 'value2_1', 'key2_2': 'value2_1'}\n",
      "value2_1\n",
      "value2_1\n",
      "{'key2': 'value1', 'key1': {'key2_1': 'value2_1', 'key2_2': 'value2_1'}, 0: 5}\n"
     ]
    }
   ],
   "source": [
    "d = {\"key2\" : \"value1\", \"key1\" : {\"key2_1\" : \"value2_1\", \"key2_2\" : \"value2_1\"}}\n",
    "\n",
    "for i in d.keys():\n",
    "    print(i)\n",
    "    \n",
    "for i in d[\"key1\"].keys():\n",
    "    print(i)\n",
    "\n",
    "print(sorted(d))\n",
    "\n",
    "for i in d.values():\n",
    "    print(i)\n",
    "    \n",
    "for i in d[\"key1\"].values():\n",
    "    print(i)\n",
    "\n",
    "# assigning to unknown inserts it\n",
    "d[0] = 5\n",
    "print(d)"
   ]
  },
  {
   "cell_type": "markdown",
   "metadata": {},
   "source": [
    "## map()\n",
    "Applies a function to every element"
   ]
  },
  {
   "cell_type": "code",
   "execution_count": 41,
   "metadata": {},
   "outputs": [
    {
     "name": "stdout",
     "output_type": "stream",
     "text": [
      "[1, 4, 9, 16]\n"
     ]
    }
   ],
   "source": [
    "print(list(map(lambda x: x*x, [1, 2, 3, 4])))"
   ]
  },
  {
   "cell_type": "markdown",
   "metadata": {},
   "source": [
    "## filter()\n",
    "Applies a filter to return the elements that satisfy the condition"
   ]
  },
  {
   "cell_type": "code",
   "execution_count": 38,
   "metadata": {},
   "outputs": [
    {
     "name": "stdout",
     "output_type": "stream",
     "text": [
      "[2, 4]\n"
     ]
    }
   ],
   "source": [
    "print(list(filter(lambda x : x%2 == 0, [1, 2, 3, 4, 5])))"
   ]
  },
  {
   "cell_type": "markdown",
   "metadata": {},
   "source": [
    "#### Combining them to print squares of the even numbers from 1 to 10"
   ]
  },
  {
   "cell_type": "code",
   "execution_count": 43,
   "metadata": {},
   "outputs": [
    {
     "name": "stdout",
     "output_type": "stream",
     "text": [
      "[0, 4, 16, 36, 64, 100]\n"
     ]
    }
   ],
   "source": [
    "print(list(map(lambda x : x*x, filter(lambda x : x%2 == 0, range(11)))))"
   ]
  },
  {
   "cell_type": "code",
   "execution_count": 50,
   "metadata": {},
   "outputs": [
    {
     "name": "stdout",
     "output_type": "stream",
     "text": [
      "[0, 10, 20, 30, 40, 50, 60, 70, 80, 90]\n"
     ]
    }
   ],
   "source": [
    "print([x for x in range(100) if x%10 == 0])"
   ]
  },
  {
   "cell_type": "markdown",
   "metadata": {},
   "source": [
    "### Pythogorean Triplet"
   ]
  },
  {
   "cell_type": "code",
   "execution_count": 57,
   "metadata": {},
   "outputs": [
    {
     "data": {
      "text/plain": [
       "[(0, 0, 0),\n",
       " (0, 1, 1),\n",
       " (0, 2, 2),\n",
       " (0, 3, 3),\n",
       " (0, 4, 4),\n",
       " (0, 5, 5),\n",
       " (0, 6, 6),\n",
       " (0, 7, 7),\n",
       " (0, 8, 8),\n",
       " (0, 9, 9),\n",
       " (3, 4, 5)]"
      ]
     },
     "execution_count": 57,
     "metadata": {},
     "output_type": "execute_result"
    }
   ],
   "source": [
    "[(i, j, k) for i in range(10) for j in range(i, 10) for k in range(j, 10) if i*i + j*j == k*k]"
   ]
  },
  {
   "cell_type": "markdown",
   "metadata": {},
   "source": [
    "## Exceptions"
   ]
  },
  {
   "cell_type": "code",
   "execution_count": 59,
   "metadata": {},
   "outputs": [
    {
     "name": "stdout",
     "output_type": "stream",
     "text": [
      "OutOfIndex\n"
     ]
    }
   ],
   "source": [
    "b = []\n",
    "try:\n",
    "    b[5] = 3\n",
    "except IndexError:\n",
    "    print(\"OutOfIndex\")"
   ]
  },
  {
   "cell_type": "code",
   "execution_count": 64,
   "metadata": {},
   "outputs": [
    {
     "name": "stdout",
     "output_type": "stream",
     "text": [
      "Enter a numberr\n",
      "Not a number\n",
      "Enter a numberr\n",
      "Not a number\n",
      "Enter a numberr\n",
      "Not a number\n",
      "Enter a numberr\n",
      "Not a number\n",
      "Enter a number1\n",
      "The number is : 1\n"
     ]
    }
   ],
   "source": [
    "def take_input():\n",
    "    try:\n",
    "        x = int(input(\"Enter a number\"))\n",
    "        print(\"The number is : \" + str(x))\n",
    "    except ValueError:\n",
    "        print(\"Not a number\")\n",
    "        take_input()\n",
    "take_input()"
   ]
  },
  {
   "cell_type": "markdown",
   "metadata": {},
   "source": [
    "## File Handling"
   ]
  },
  {
   "cell_type": "markdown",
   "metadata": {},
   "source": [
    "### 1) Copying and appending content of one file to other"
   ]
  },
  {
   "cell_type": "code",
   "execution_count": 72,
   "metadata": {},
   "outputs": [],
   "source": [
    "def copy(input_file, output_file):\n",
    "    infile = open(input_file, 'r')\n",
    "    outfile = open(output_file, 'w')\n",
    "    \n",
    "    # way 1\n",
    "    for line in infile.readlines():\n",
    "        outfile.write(line)\n",
    "    \n",
    "    # way 2\n",
    "    contents = infile.readlines()\n",
    "    outfile.writelines(contents)\n",
    "    \n",
    "    infile.close()\n",
    "    outfile.close()\n",
    "copy(\"input.txt\", \"output.txt\")"
   ]
  },
  {
   "cell_type": "code",
   "execution_count": 86,
   "metadata": {},
   "outputs": [
    {
     "name": "stdout",
     "output_type": "stream",
     "text": [
      "\n",
      "1\n",
      "pppppppp\n",
      "dasdasad\n",
      "2\n",
      "ppppppppdasdasa\n",
      "3\n",
      "ppppppppdasdasad\n",
      "4\n",
      "pppppppp\n",
      "dasdasad\n",
      "5\n",
      "ppppppppdasdasad"
     ]
    }
   ],
   "source": [
    "def operate(input_file, output_file):\n",
    "    infile = open(input_file, 'r')\n",
    "    outfile = open(output_file, 'w')\n",
    "    \n",
    "    # get rid of \\n\n",
    "    contents = infile.readlines()\n",
    "    \n",
    "    print(\"\\n1\")\n",
    "    for line in contents:\n",
    "        print(line, end = \"\")\n",
    "        \n",
    "    print(\"\\n2\")\n",
    "    for line in contents:\n",
    "        print(line[:-1], end = \"\")\n",
    "    \n",
    "    print(\"\\n3\")\n",
    "    for line in contents:\n",
    "        print(line.rstrip(),end = \"\")\n",
    "        \n",
    "    print(\"\\n4\")\n",
    "    for line in contents:\n",
    "        print(line.lstrip(),end = \"\")\n",
    "    \n",
    "    print(\"\\n5\")\n",
    "    for line in contents:\n",
    "        print(line.strip(),end = \"\")\n",
    "    \n",
    "    \n",
    "    infile.close()\n",
    "    outfile.close()\n",
    "operate(\"input.txt\", \"output.txt\")"
   ]
  },
  {
   "cell_type": "markdown",
   "metadata": {},
   "source": [
    "## String processing"
   ]
  },
  {
   "cell_type": "code",
   "execution_count": 111,
   "metadata": {},
   "outputs": [
    {
     "name": "stdout",
     "output_type": "stream",
     "text": [
      "6\n",
      "-1\n",
      "6\n",
      "Quick ssown fox jumped over the lazy dog ss\n",
      "Quick ssown fox jumped over the lazy dog br\n",
      "['Quick', 'brown', 'fox', 'jumped', 'over', 'the', 'lazy', 'dog', 'br']\n",
      "['Quick', 'brown', 'fox', 'jumped', 'over', 'the lazy dog br']\n",
      "HelloWorld\n"
     ]
    }
   ],
   "source": [
    "string = \"Quick brown fox jumped over the lazy dog br\"\n",
    "\n",
    "print(string.find(\"br\"))\n",
    "print(string.find(\"zz\"))\n",
    "\n",
    "print(string.index(\"br\"))\n",
    "\n",
    "print(string.replace(\"br\", \"ss\"))\n",
    "print(string.replace(\"br\", \"ss\", 1))\n",
    "\n",
    "print(string.split(' '))\n",
    "print(string.split(' ', 5))\n",
    "\n",
    "joistr = \"\"\n",
    "print(joistr.join([\"Hello\", \"World\"]))\n",
    "\n"
   ]
  },
  {
   "cell_type": "markdown",
   "metadata": {},
   "source": [
    "## Format"
   ]
  },
  {
   "cell_type": "code",
   "execution_count": 132,
   "metadata": {},
   "outputs": [
    {
     "name": "stdout",
     "output_type": "stream",
     "text": [
      "Value: 4, 5\n",
      "Value: 4, 5\n",
      "Value:   4\n",
      "Value: 4.000000\n",
      "Value: 4.000000\n",
      "Value:   4.000000\n",
      "Value:       4.67\n"
     ]
    }
   ],
   "source": [
    "print(\"Value: {a}, {b}\".format(a = 4, b = 5))\n",
    "print(\"Value: {0}, {1}\".format(4, 5))\n",
    "print(\"Value: {0:3d}\".format(4))\n",
    "print(\"Value: {0:f}\".format(4))\n",
    "print(\"Value: {0:8f}\".format(4))\n",
    "print(\"Value: {0:10f}\".format(4))\n",
    "print(\"Value: {0:10.2f}\".format(4.666666))"
   ]
  },
  {
   "cell_type": "code",
   "execution_count": 134,
   "metadata": {},
   "outputs": [
    {
     "name": "stdout",
     "output_type": "stream",
     "text": [
      "3\n",
      "Element doesn't exists\n"
     ]
    }
   ],
   "source": [
    "x = 3\n",
    "print(x)\n",
    "del(x)\n",
    "try:\n",
    "    print(x)\n",
    "except NameError:\n",
    "    print(\"Element doesn't exists\")"
   ]
  },
  {
   "cell_type": "markdown",
   "metadata": {},
   "source": [
    "### Global Vars"
   ]
  },
  {
   "cell_type": "code",
   "execution_count": 164,
   "metadata": {},
   "outputs": [
    {
     "name": "stdout",
     "output_type": "stream",
     "text": [
      "ERROR!\n",
      "[22]\n",
      "3\n",
      "ERROR!\n",
      "3\n"
     ]
    }
   ],
   "source": [
    "x = 2\n",
    "x_list = [6]\n",
    "\n",
    "\n",
    "def f1():\n",
    "    try:\n",
    "        y = x\n",
    "        x = 3\n",
    "        print(x)\n",
    "    except UnboundLocalError:\n",
    "        print(\"ERROR!\")\n",
    "    \n",
    "def f2():\n",
    "    y = x_list\n",
    "    x_list[0] = 22\n",
    "    print(x_list)\n",
    "    \n",
    "def f3():\n",
    "    global x\n",
    "    try:\n",
    "        y = x\n",
    "        x = 3\n",
    "        print(x)\n",
    "    except UnboundLocalError:\n",
    "        print(\"ERROR!\")\n",
    "        \n",
    "def f4():\n",
    "    global x\n",
    "    def f4_():\n",
    "        y = x\n",
    "        print(y)\n",
    "        x = 30\n",
    "        \n",
    "    try:\n",
    "        f4_()\n",
    "    except UnboundLocalError:\n",
    "        print(\"ERROR!\")\n",
    "        \n",
    "\n",
    "def f5():\n",
    "    global x\n",
    "    \n",
    "    def f5_():\n",
    "        global x\n",
    "        y = x\n",
    "        print(y)\n",
    "        x = 30\n",
    "    \n",
    "    try:\n",
    "        f5_()\n",
    "    except UnboundLocalError:\n",
    "        print(\"ERROR!\")\n",
    "\n",
    "f1()\n",
    "f2()\n",
    "f3()\n",
    "f4()\n",
    "f5()"
   ]
  },
  {
   "cell_type": "markdown",
   "metadata": {},
   "source": [
    "## Set operations"
   ]
  },
  {
   "cell_type": "code",
   "execution_count": 175,
   "metadata": {},
   "outputs": [
    {
     "name": "stdout",
     "output_type": "stream",
     "text": [
      "{1, 2, 3, 5, 7, 9, 11}\n",
      "{11, 3, 5, 7}\n",
      "{1, 9}\n",
      "{2}\n",
      "{1, 2, 9}\n",
      "{1, 2, 9}\n"
     ]
    }
   ],
   "source": [
    "odd = set([1, 3, 5, 7, 9, 11])\n",
    "prime = set([2, 3, 5, 7, 11])\n",
    "\n",
    "print(odd | prime)\n",
    "print(odd & prime)\n",
    "print(odd - prime)\n",
    "print(prime - odd)\n",
    "print(odd ^ prime)"
   ]
  },
  {
   "cell_type": "markdown",
   "metadata": {},
   "source": [
    "## Class"
   ]
  },
  {
   "cell_type": "code",
   "execution_count": 182,
   "metadata": {},
   "outputs": [
    {
     "name": "stdout",
     "output_type": "stream",
     "text": [
      "3\n",
      "6\n"
     ]
    }
   ],
   "source": [
    "class Point:\n",
    "    def __init__(self, x, y):\n",
    "        self.x = x\n",
    "        self.y = y\n",
    "    def add(self):\n",
    "        return self.x + self.y\n",
    "    def add_more(self, p = 3):\n",
    "        return self.x + self.y + p\n",
    "p = Point(1, 2)\n",
    "print(p.add())\n",
    "print(p.add_more(3))"
   ]
  },
  {
   "cell_type": "code",
   "execution_count": null,
   "metadata": {},
   "outputs": [],
   "source": []
  }
 ],
 "metadata": {
  "kernelspec": {
   "display_name": "Python 3",
   "language": "python",
   "name": "python3"
  },
  "language_info": {
   "codemirror_mode": {
    "name": "ipython",
    "version": 3
   },
   "file_extension": ".py",
   "mimetype": "text/x-python",
   "name": "python",
   "nbconvert_exporter": "python",
   "pygments_lexer": "ipython3",
   "version": "3.6.2"
  }
 },
 "nbformat": 4,
 "nbformat_minor": 2
}
